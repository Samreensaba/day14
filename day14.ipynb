{
 "cells": [
  {
   "cell_type": "code",
   "execution_count": null,
   "id": "06792ae4-7a76-424d-b4a7-c96c6b48aad7",
   "metadata": {},
   "outputs": [],
   "source": [
    "from getpass import getpass as input\n",
    "print(\"E P I C    🪨  🧻  ✂️    B A T T L E\")\n",
    "print(\"Select your move (R, P or S)\")\n",
    "player1 = input(\"Player 1 > \")\n",
    "player2 = input(\"Player 2 > \")\n",
    "if player1 == \"R\" and player2 == \"R\":\n",
    "  print(\"You both picked Rock, draw!\")\n",
    "elif player1 == \"S\" and player2 == \"S\":\n",
    "    print(\"Ka-Shing! Scissors bounce off each other like a dodgy sword fight! Draw.\")\n",
    "elif player1 == \"P\" and player2 == \"P\":\n",
    "    print(\"Two bits of paper flap at each other. Dissapointing. Draw.\")\n",
    "elif player1 == \"R\" and player2 == \"P\":\n",
    "  print(\"Player1's Rock is smothered by Player2's Paper!\")\n",
    "elif player1 == \"R\" and player2 == \"S\":\n",
    "  print(\"Player1 smashed Player2's Scissors into dust with their Rock!\")\n",
    "elif player1 == \"P\" and player2 == \"R\":\n",
    "  print(\"Player1 wins! Paper beats rock!\")\n",
    "elif player1 == \"P\" and player2 == \"S\":\n",
    "  print(\"Player1's Paper is cut into tiny pieces by Player2's Scissors!\")\n",
    "elif player1 == \"S\" and player2 == \"R\":\n",
    "  print(\"Player2 beats player1 wiht rock!\")\n",
    "elif player1 == \"S\" and player2 == \"P\":\n",
    "  print(\"Scissors beats paper! Player1 is the winner.\")\n",
    "else:\n",
    "  print(\"Invalid move. Try again!\")"
   ]
  }
 ],
 "metadata": {
  "kernelspec": {
   "display_name": "Python 3 (ipykernel)",
   "language": "python",
   "name": "python3"
  },
  "language_info": {
   "codemirror_mode": {
    "name": "ipython",
    "version": 3
   },
   "file_extension": ".py",
   "mimetype": "text/x-python",
   "name": "python",
   "nbconvert_exporter": "python",
   "pygments_lexer": "ipython3",
   "version": "3.12.4"
  }
 },
 "nbformat": 4,
 "nbformat_minor": 5
}
